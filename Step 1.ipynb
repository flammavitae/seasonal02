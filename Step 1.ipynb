{
 "cells": [
  {
   "cell_type": "code",
   "execution_count": 55,
   "metadata": {},
   "outputs": [
    {
     "name": "stdout",
     "output_type": "stream",
     "text": [
      "Looking in indexes: https://pypi.org/simple, https://pypi.ngc.nvidia.com\n",
      "Requirement already satisfied: yfinance in h:\\program files\\python\\python310\\lib\\site-packages (0.2.51)\n",
      "Requirement already satisfied: lxml>=4.9.1 in h:\\program files\\python\\python310\\lib\\site-packages (from yfinance) (5.3.0)\n",
      "Requirement already satisfied: multitasking>=0.0.7 in h:\\program files\\python\\python310\\lib\\site-packages (from yfinance) (0.0.11)\n",
      "Requirement already satisfied: requests>=2.31 in h:\\program files\\python\\python310\\lib\\site-packages (from yfinance) (2.32.3)\n",
      "Requirement already satisfied: pandas>=1.3.0 in h:\\program files\\python\\python310\\lib\\site-packages (from yfinance) (2.2.3)\n",
      "Requirement already satisfied: pytz>=2022.5 in h:\\program files\\python\\python310\\lib\\site-packages (from yfinance) (2024.2)\n",
      "Requirement already satisfied: peewee>=3.16.2 in h:\\program files\\python\\python310\\lib\\site-packages (from yfinance) (3.17.8)\n",
      "Requirement already satisfied: html5lib>=1.1 in h:\\program files\\python\\python310\\lib\\site-packages (from yfinance) (1.1)\n",
      "Requirement already satisfied: numpy>=1.16.5 in h:\\program files\\python\\python310\\lib\\site-packages (from yfinance) (2.2.1)\n",
      "Requirement already satisfied: frozendict>=2.3.4 in h:\\program files\\python\\python310\\lib\\site-packages (from yfinance) (2.4.6)\n",
      "Requirement already satisfied: beautifulsoup4>=4.11.1 in h:\\program files\\python\\python310\\lib\\site-packages (from yfinance) (4.12.3)\n",
      "Requirement already satisfied: platformdirs>=2.0.0 in h:\\program files\\python\\python310\\lib\\site-packages (from yfinance) (4.3.6)\n",
      "Requirement already satisfied: soupsieve>1.2 in h:\\program files\\python\\python310\\lib\\site-packages (from beautifulsoup4>=4.11.1->yfinance) (2.6)\n",
      "Requirement already satisfied: webencodings in h:\\program files\\python\\python310\\lib\\site-packages (from html5lib>=1.1->yfinance) (0.5.1)\n",
      "Requirement already satisfied: six>=1.9 in h:\\program files\\python\\python310\\lib\\site-packages (from html5lib>=1.1->yfinance) (1.16.0)\n",
      "Requirement already satisfied: python-dateutil>=2.8.2 in h:\\program files\\python\\python310\\lib\\site-packages (from pandas>=1.3.0->yfinance) (2.8.2)\n",
      "Requirement already satisfied: tzdata>=2022.7 in h:\\program files\\python\\python310\\lib\\site-packages (from pandas>=1.3.0->yfinance) (2024.2)\n",
      "Requirement already satisfied: urllib3<3,>=1.21.1 in h:\\program files\\python\\python310\\lib\\site-packages (from requests>=2.31->yfinance) (2.3.0)\n",
      "Requirement already satisfied: charset-normalizer<4,>=2 in h:\\program files\\python\\python310\\lib\\site-packages (from requests>=2.31->yfinance) (3.4.1)\n",
      "Requirement already satisfied: idna<4,>=2.5 in h:\\program files\\python\\python310\\lib\\site-packages (from requests>=2.31->yfinance) (3.10)\n",
      "Requirement already satisfied: certifi>=2017.4.17 in h:\\program files\\python\\python310\\lib\\site-packages (from requests>=2.31->yfinance) (2024.12.14)\n",
      "Note: you may need to restart the kernel to use updated packages.\n"
     ]
    },
    {
     "name": "stderr",
     "output_type": "stream",
     "text": [
      "\n",
      "[notice] A new release of pip available: 22.2.2 -> 24.3.1\n",
      "[notice] To update, run: python.exe -m pip install --upgrade pip\n"
     ]
    }
   ],
   "source": [
    "# First, install the yfinance library if you haven't already: \n",
    "%pip install yfinance \n"
   ]
  },
  {
   "cell_type": "code",
   "execution_count": 56,
   "metadata": {},
   "outputs": [],
   "source": [
    "import yfinance as yf \n",
    "import pandas as pd\n"
   ]
  },
  {
   "cell_type": "code",
   "execution_count": 72,
   "metadata": {},
   "outputs": [
    {
     "name": "stderr",
     "output_type": "stream",
     "text": [
      "[*********************100%***********************]  1 of 1 completed\n"
     ]
    },
    {
     "data": {
      "text/html": [
       "<div>\n",
       "<style scoped>\n",
       "    .dataframe tbody tr th:only-of-type {\n",
       "        vertical-align: middle;\n",
       "    }\n",
       "\n",
       "    .dataframe tbody tr th {\n",
       "        vertical-align: top;\n",
       "    }\n",
       "\n",
       "    .dataframe thead tr th {\n",
       "        text-align: left;\n",
       "    }\n",
       "\n",
       "    .dataframe thead tr:last-of-type th {\n",
       "        text-align: right;\n",
       "    }\n",
       "</style>\n",
       "<table border=\"1\" class=\"dataframe\">\n",
       "  <thead>\n",
       "    <tr>\n",
       "      <th>Price</th>\n",
       "      <th>Close</th>\n",
       "      <th>High</th>\n",
       "      <th>Low</th>\n",
       "      <th>Open</th>\n",
       "      <th>Volume</th>\n",
       "    </tr>\n",
       "    <tr>\n",
       "      <th>Ticker</th>\n",
       "      <th>GC</th>\n",
       "      <th>GC</th>\n",
       "      <th>GC</th>\n",
       "      <th>GC</th>\n",
       "      <th>GC</th>\n",
       "    </tr>\n",
       "    <tr>\n",
       "      <th>Date</th>\n",
       "      <th></th>\n",
       "      <th></th>\n",
       "      <th></th>\n",
       "      <th></th>\n",
       "      <th></th>\n",
       "    </tr>\n",
       "  </thead>\n",
       "  <tbody>\n",
       "    <tr>\n",
       "      <th>2005-12-06</th>\n",
       "      <td>2.40</td>\n",
       "      <td>2.58</td>\n",
       "      <td>2.34</td>\n",
       "      <td>2.54</td>\n",
       "      <td>48228300</td>\n",
       "    </tr>\n",
       "    <tr>\n",
       "      <th>2005-12-07</th>\n",
       "      <td>2.18</td>\n",
       "      <td>2.48</td>\n",
       "      <td>2.14</td>\n",
       "      <td>2.42</td>\n",
       "      <td>4774300</td>\n",
       "    </tr>\n",
       "    <tr>\n",
       "      <th>2005-12-08</th>\n",
       "      <td>2.32</td>\n",
       "      <td>2.38</td>\n",
       "      <td>2.18</td>\n",
       "      <td>2.20</td>\n",
       "      <td>3105200</td>\n",
       "    </tr>\n",
       "    <tr>\n",
       "      <th>2005-12-09</th>\n",
       "      <td>2.34</td>\n",
       "      <td>2.40</td>\n",
       "      <td>2.30</td>\n",
       "      <td>2.35</td>\n",
       "      <td>662900</td>\n",
       "    </tr>\n",
       "    <tr>\n",
       "      <th>2005-12-13</th>\n",
       "      <td>2.32</td>\n",
       "      <td>2.34</td>\n",
       "      <td>2.30</td>\n",
       "      <td>2.32</td>\n",
       "      <td>109000</td>\n",
       "    </tr>\n",
       "  </tbody>\n",
       "</table>\n",
       "</div>"
      ],
      "text/plain": [
       "Price      Close  High   Low  Open    Volume\n",
       "Ticker        GC    GC    GC    GC        GC\n",
       "Date                                        \n",
       "2005-12-06  2.40  2.58  2.34  2.54  48228300\n",
       "2005-12-07  2.18  2.48  2.14  2.42   4774300\n",
       "2005-12-08  2.32  2.38  2.18  2.20   3105200\n",
       "2005-12-09  2.34  2.40  2.30  2.35    662900\n",
       "2005-12-13  2.32  2.34  2.30  2.32    109000"
      ]
     },
     "execution_count": 72,
     "metadata": {},
     "output_type": "execute_result"
    }
   ],
   "source": [
    "# # Define the stock ticker symbol and the time period \n",
    "ticker = '^GSPC' \n",
    "ticker = 'GC'\n",
    "start_date = '1900-01-01'\n",
    "end_date = '2023-01-01' \n",
    "# # Download stock data \n",
    "stock_data = yf.download(ticker, start=start_date, end=end_date) \n",
    "# # Display the stock data \n",
    "stock_data.head() # Display the first few rows of the dataset"
   ]
  },
  {
   "cell_type": "code",
   "execution_count": null,
   "metadata": {},
   "outputs": [],
   "source": []
  },
  {
   "cell_type": "code",
   "execution_count": 58,
   "metadata": {},
   "outputs": [
    {
     "name": "stderr",
     "output_type": "stream",
     "text": [
      "[*********************100%***********************]  1 of 1 completed\n"
     ]
    }
   ],
   "source": [
    "\n",
    "\n",
    "# Download sample stock data (e.g., for Apple Inc.)\n",
    "ticker = 'AAPL'\n",
    "start_date = '2020-01-01'\n",
    "end_date = '2023-01-01'\n",
    "stock_data = yf.download(ticker, start=start_date, end=end_date)\n",
    "\n",
    "# Display the first few rows of the original daily data\n",
    "#print(stock_data.head())\n",
    "\n"
   ]
  },
  {
   "cell_type": "code",
   "execution_count": 59,
   "metadata": {},
   "outputs": [
    {
     "data": {
      "text/html": [
       "<div>\n",
       "<style scoped>\n",
       "    .dataframe tbody tr th:only-of-type {\n",
       "        vertical-align: middle;\n",
       "    }\n",
       "\n",
       "    .dataframe tbody tr th {\n",
       "        vertical-align: top;\n",
       "    }\n",
       "\n",
       "    .dataframe thead th {\n",
       "        text-align: right;\n",
       "    }\n",
       "</style>\n",
       "<table border=\"1\" class=\"dataframe\">\n",
       "  <thead>\n",
       "    <tr style=\"text-align: right;\">\n",
       "      <th></th>\n",
       "      <th>Close</th>\n",
       "      <th>High</th>\n",
       "      <th>Low</th>\n",
       "      <th>Open</th>\n",
       "      <th>Volume</th>\n",
       "      <th>Change</th>\n",
       "    </tr>\n",
       "    <tr>\n",
       "      <th>Date</th>\n",
       "      <th></th>\n",
       "      <th></th>\n",
       "      <th></th>\n",
       "      <th></th>\n",
       "      <th></th>\n",
       "      <th></th>\n",
       "    </tr>\n",
       "  </thead>\n",
       "  <tbody>\n",
       "    <tr>\n",
       "      <th>2020-01-31</th>\n",
       "      <td>75.016129</td>\n",
       "      <td>79.461204</td>\n",
       "      <td>70.954010</td>\n",
       "      <td>71.799873</td>\n",
       "      <td>2934370400</td>\n",
       "      <td>NaN</td>\n",
       "    </tr>\n",
       "    <tr>\n",
       "      <th>2020-02-29</th>\n",
       "      <td>66.411682</td>\n",
       "      <td>79.496754</td>\n",
       "      <td>62.284034</td>\n",
       "      <td>73.753372</td>\n",
       "      <td>3019279200</td>\n",
       "      <td>-1.683313</td>\n",
       "    </tr>\n",
       "    <tr>\n",
       "      <th>2020-03-31</th>\n",
       "      <td>61.778694</td>\n",
       "      <td>73.855544</td>\n",
       "      <td>51.652720</td>\n",
       "      <td>68.578763</td>\n",
       "      <td>6280072400</td>\n",
       "      <td>3.263102</td>\n",
       "    </tr>\n",
       "    <tr>\n",
       "      <th>2020-04-30</th>\n",
       "      <td>71.377472</td>\n",
       "      <td>71.554825</td>\n",
       "      <td>57.553864</td>\n",
       "      <td>59.886154</td>\n",
       "      <td>3265299200</td>\n",
       "      <td>-3.063419</td>\n",
       "    </tr>\n",
       "    <tr>\n",
       "      <th>2020-05-31</th>\n",
       "      <td>77.451286</td>\n",
       "      <td>78.985997</td>\n",
       "      <td>69.446085</td>\n",
       "      <td>69.543261</td>\n",
       "      <td>2805936000</td>\n",
       "      <td>-2.569733</td>\n",
       "    </tr>\n",
       "  </tbody>\n",
       "</table>\n",
       "</div>"
      ],
      "text/plain": [
       "                Close       High        Low       Open      Volume    Change\n",
       "Date                                                                        \n",
       "2020-01-31  75.016129  79.461204  70.954010  71.799873  2934370400       NaN\n",
       "2020-02-29  66.411682  79.496754  62.284034  73.753372  3019279200 -1.683313\n",
       "2020-03-31  61.778694  73.855544  51.652720  68.578763  6280072400  3.263102\n",
       "2020-04-30  71.377472  71.554825  57.553864  59.886154  3265299200 -3.063419\n",
       "2020-05-31  77.451286  78.985997  69.446085  69.543261  2805936000 -2.569733"
      ]
     },
     "execution_count": 59,
     "metadata": {},
     "output_type": "execute_result"
    }
   ],
   "source": [
    "# Define container\n",
    "period_data = pd.DataFrame()\n",
    "# Define Period\n",
    "period = \"YE\" # Yearly\n",
    "period = \"ME\" # Monthly\n",
    "# # Resample the daily data to yeperiodic data by summing the 'Adj Close' prices\n",
    "period_data['Close'] = stock_data['Close'].resample(period).last()\n",
    "period_data['High'] = stock_data['High'].resample(period).max()\n",
    "period_data['Low'] = stock_data['Low'].resample(period).min()\n",
    "period_data['Open'] = stock_data['Open'].resample(period).first()\n",
    "period_data['Volume'] = stock_data['Volume'].resample(period).sum()\n",
    "\n",
    "period_data['Change'] = (period_data['Open'] - period_data['Close'].shift(1)) / period_data['Close'].shift(1) * 100\n",
    "# Display the yearly data\n",
    "period_data.head()\n"
   ]
  },
  {
   "cell_type": "code",
   "execution_count": 60,
   "metadata": {},
   "outputs": [
    {
     "name": "stderr",
     "output_type": "stream",
     "text": [
      "[*********************100%***********************]  1 of 1 completed\n"
     ]
    },
    {
     "data": {
      "text/html": [
       "<div>\n",
       "<style scoped>\n",
       "    .dataframe tbody tr th:only-of-type {\n",
       "        vertical-align: middle;\n",
       "    }\n",
       "\n",
       "    .dataframe tbody tr th {\n",
       "        vertical-align: top;\n",
       "    }\n",
       "\n",
       "    .dataframe thead tr th {\n",
       "        text-align: left;\n",
       "    }\n",
       "\n",
       "    .dataframe thead tr:last-of-type th {\n",
       "        text-align: right;\n",
       "    }\n",
       "</style>\n",
       "<table border=\"1\" class=\"dataframe\">\n",
       "  <thead>\n",
       "    <tr>\n",
       "      <th>Price</th>\n",
       "      <th>Close</th>\n",
       "      <th>High</th>\n",
       "      <th>Low</th>\n",
       "      <th>Open</th>\n",
       "      <th>Volume</th>\n",
       "      <th>Previous Close</th>\n",
       "    </tr>\n",
       "    <tr>\n",
       "      <th>Ticker</th>\n",
       "      <th>XLK</th>\n",
       "      <th>XLK</th>\n",
       "      <th>XLK</th>\n",
       "      <th>XLK</th>\n",
       "      <th>XLK</th>\n",
       "      <th></th>\n",
       "    </tr>\n",
       "    <tr>\n",
       "      <th>Date</th>\n",
       "      <th></th>\n",
       "      <th></th>\n",
       "      <th></th>\n",
       "      <th></th>\n",
       "      <th></th>\n",
       "      <th></th>\n",
       "    </tr>\n",
       "  </thead>\n",
       "  <tbody>\n",
       "    <tr>\n",
       "      <th>2022-01-03</th>\n",
       "      <td>171.144592</td>\n",
       "      <td>171.300592</td>\n",
       "      <td>169.018928</td>\n",
       "      <td>169.759992</td>\n",
       "      <td>10151400</td>\n",
       "      <td>NaN</td>\n",
       "    </tr>\n",
       "    <tr>\n",
       "      <th>2022-01-04</th>\n",
       "      <td>169.330978</td>\n",
       "      <td>171.612643</td>\n",
       "      <td>168.053637</td>\n",
       "      <td>171.437137</td>\n",
       "      <td>8324000</td>\n",
       "      <td>171.144592</td>\n",
       "    </tr>\n",
       "    <tr>\n",
       "      <th>2022-01-05</th>\n",
       "      <td>164.124115</td>\n",
       "      <td>168.472927</td>\n",
       "      <td>164.065598</td>\n",
       "      <td>168.346163</td>\n",
       "      <td>11814200</td>\n",
       "      <td>169.330978</td>\n",
       "    </tr>\n",
       "    <tr>\n",
       "      <th>2022-01-06</th>\n",
       "      <td>163.295273</td>\n",
       "      <td>164.982143</td>\n",
       "      <td>162.320201</td>\n",
       "      <td>162.817482</td>\n",
       "      <td>11883600</td>\n",
       "      <td>164.124115</td>\n",
       "    </tr>\n",
       "    <tr>\n",
       "      <th>2022-01-07</th>\n",
       "      <td>161.793640</td>\n",
       "      <td>163.968061</td>\n",
       "      <td>160.730816</td>\n",
       "      <td>163.188000</td>\n",
       "      <td>15244300</td>\n",
       "      <td>163.295273</td>\n",
       "    </tr>\n",
       "  </tbody>\n",
       "</table>\n",
       "</div>"
      ],
      "text/plain": [
       "Price            Close        High         Low        Open    Volume  \\\n",
       "Ticker             XLK         XLK         XLK         XLK       XLK   \n",
       "Date                                                                   \n",
       "2022-01-03  171.144592  171.300592  169.018928  169.759992  10151400   \n",
       "2022-01-04  169.330978  171.612643  168.053637  171.437137   8324000   \n",
       "2022-01-05  164.124115  168.472927  164.065598  168.346163  11814200   \n",
       "2022-01-06  163.295273  164.982143  162.320201  162.817482  11883600   \n",
       "2022-01-07  161.793640  163.968061  160.730816  163.188000  15244300   \n",
       "\n",
       "Price      Previous Close  \n",
       "Ticker                     \n",
       "Date                       \n",
       "2022-01-03            NaN  \n",
       "2022-01-04     171.144592  \n",
       "2022-01-05     169.330978  \n",
       "2022-01-06     164.124115  \n",
       "2022-01-07     163.295273  "
      ]
     },
     "execution_count": 60,
     "metadata": {},
     "output_type": "execute_result"
    }
   ],
   "source": [
    "import pandas as pd\n",
    "import yfinance as yf\n",
    "\n",
    "# Download sample stock data (e.g., for Apple Inc.)\n",
    "ticker = 'XLK'\n",
    "start_date = '2022-01-01'\n",
    "end_date = '2023-01-01'\n",
    "stock_data = yf.download(ticker, start=start_date, end=end_date)\n",
    "\n",
    "# Display the first few rows of the original data\n",
    "stock_data.head()\n",
    "\n",
    "# Create a new column that references the 'Adj Close' price of the previous row\n",
    "stock_data['Previous Close'] = stock_data['Close'].shift(1)\n",
    "\n",
    "# Display the updated DataFrame\n",
    "stock_data.head()\n"
   ]
  },
  {
   "cell_type": "code",
   "execution_count": 61,
   "metadata": {},
   "outputs": [
    {
     "name": "stderr",
     "output_type": "stream",
     "text": [
      "[*********************100%***********************]  1 of 1 completed\n",
      "[*********************100%***********************]  1 of 1 completed\n",
      "[*********************100%***********************]  1 of 1 completed\n",
      "[*********************100%***********************]  1 of 1 completed\n",
      "[*********************100%***********************]  1 of 1 completed\n",
      "[*********************100%***********************]  1 of 1 completed\n",
      "[*********************100%***********************]  1 of 1 completed\n",
      "[*********************100%***********************]  1 of 1 completed\n",
      "[*********************100%***********************]  1 of 1 completed"
     ]
    },
    {
     "name": "stdout",
     "output_type": "stream",
     "text": [
      "                  XLY        XLP        XLE        XLF        XLV        XLI  \\\n",
      "Date                                                                           \n",
      "1998-12-22  18.959185  14.448934  11.933963  11.377010  17.155422  14.671528   \n",
      "1998-12-23  19.040600  14.798227  12.182413  11.544769  17.540924  14.927547   \n",
      "1998-12-24  19.389544  14.772674  12.118299  11.621028  17.648020  15.124480   \n",
      "1998-12-28  19.215078  14.687476  12.054174  11.468519  17.391012  15.203251   \n",
      "1998-12-29  19.633804  15.011216  12.174397  11.590528  17.776533  15.419879   \n",
      "\n",
      "                  XLB        XLK        XLU  \n",
      "Date                                         \n",
      "1998-12-22  11.715706  24.025002  12.081684  \n",
      "1998-12-23  11.838758  24.598972  12.031055  \n",
      "1998-12-24  12.111212  24.505264  12.252563  \n",
      "1998-12-28  12.005744  24.575554  12.189273  \n",
      "1998-12-29  12.225466  24.645823  12.391794  \n"
     ]
    },
    {
     "name": "stderr",
     "output_type": "stream",
     "text": [
      "\n"
     ]
    }
   ],
   "source": [
    "import pandas as pd\n",
    "import yfinance as yf\n",
    "\n",
    "# Define the list of sector ETF symbols\n",
    "#sectors = ['XLC', 'XLY', 'XLP', 'XLE', 'XLF', 'XLV', 'XLI', 'XLB', 'XLRE', 'XLK', 'XLU']\n",
    "sectors = ['XLY', 'XLP', 'XLE', 'XLF', 'XLV', 'XLI', 'XLB', 'XLK', 'XLU'] # Omit XLC and XLRE to give more overall data\n",
    "\n",
    "# Initialize an empty DataFrame to store the data\n",
    "combined_data = pd.DataFrame()\n",
    "\n",
    "# Loop through each sector and download the data\n",
    "for sector in sectors:\n",
    "    stock_data = yf.download(sector, start='1900-01-01', end='2023-01-01')\n",
    "    combined_data[sector] = stock_data['Close']\n",
    "\n",
    "# Display the combined DataFrame\n",
    "print(combined_data.head())\n"
   ]
  },
  {
   "cell_type": "code",
   "execution_count": 62,
   "metadata": {},
   "outputs": [
    {
     "name": "stdout",
     "output_type": "stream",
     "text": [
      "Looking in indexes: https://pypi.org/simple, https://pypi.ngc.nvidia.com\n",
      "Requirement already satisfied: fastai in h:\\program files\\python\\python310\\lib\\site-packages (2.7.18)\n",
      "Requirement already satisfied: fastcore<1.8,>=1.5.29 in h:\\program files\\python\\python310\\lib\\site-packages (from fastai) (1.7.28)\n",
      "Requirement already satisfied: pyyaml in h:\\program files\\python\\python310\\lib\\site-packages (from fastai) (6.0.2)\n",
      "Requirement already satisfied: fastdownload<2,>=0.0.5 in h:\\program files\\python\\python310\\lib\\site-packages (from fastai) (0.0.7)\n",
      "Requirement already satisfied: fastprogress>=0.2.4 in h:\\program files\\python\\python310\\lib\\site-packages (from fastai) (1.0.3)\n",
      "Requirement already satisfied: spacy<4 in h:\\program files\\python\\python310\\lib\\site-packages (from fastai) (3.8.3)\n",
      "Requirement already satisfied: pillow>=9.0.0 in h:\\program files\\python\\python310\\lib\\site-packages (from fastai) (11.0.0)\n",
      "Requirement already satisfied: matplotlib in h:\\program files\\python\\python310\\lib\\site-packages (from fastai) (3.10.0)\n",
      "Requirement already satisfied: torch<2.6,>=1.10 in h:\\program files\\python\\python310\\lib\\site-packages (from fastai) (2.5.1)\n",
      "Requirement already satisfied: pandas in h:\\program files\\python\\python310\\lib\\site-packages (from fastai) (2.2.3)\n",
      "Requirement already satisfied: scipy in h:\\program files\\python\\python310\\lib\\site-packages (from fastai) (1.14.1)\n",
      "Requirement already satisfied: scikit-learn in h:\\program files\\python\\python310\\lib\\site-packages (from fastai) (1.6.0)\n",
      "Requirement already satisfied: packaging in h:\\program files\\python\\python310\\lib\\site-packages (from fastai) (21.3)\n",
      "Requirement already satisfied: requests in h:\\program files\\python\\python310\\lib\\site-packages (from fastai) (2.32.3)\n",
      "Requirement already satisfied: pip in h:\\program files\\python\\python310\\lib\\site-packages (from fastai) (22.2.2)\n",
      "Requirement already satisfied: torchvision>=0.11 in h:\\program files\\python\\python310\\lib\\site-packages (from fastai) (0.20.1)\n",
      "Requirement already satisfied: srsly<3.0.0,>=2.4.3 in h:\\program files\\python\\python310\\lib\\site-packages (from spacy<4->fastai) (2.5.0)\n",
      "Requirement already satisfied: preshed<3.1.0,>=3.0.2 in h:\\program files\\python\\python310\\lib\\site-packages (from spacy<4->fastai) (3.0.9)\n",
      "Requirement already satisfied: thinc<8.4.0,>=8.3.0 in h:\\program files\\python\\python310\\lib\\site-packages (from spacy<4->fastai) (8.3.3)\n",
      "Requirement already satisfied: langcodes<4.0.0,>=3.2.0 in h:\\program files\\python\\python310\\lib\\site-packages (from spacy<4->fastai) (3.5.0)\n",
      "Requirement already satisfied: murmurhash<1.1.0,>=0.28.0 in h:\\program files\\python\\python310\\lib\\site-packages (from spacy<4->fastai) (1.0.11)\n",
      "Requirement already satisfied: catalogue<2.1.0,>=2.0.6 in h:\\program files\\python\\python310\\lib\\site-packages (from spacy<4->fastai) (2.0.10)\n",
      "Requirement already satisfied: typer<1.0.0,>=0.3.0 in h:\\program files\\python\\python310\\lib\\site-packages (from spacy<4->fastai) (0.15.1)\n",
      "Requirement already satisfied: spacy-loggers<2.0.0,>=1.0.0 in h:\\program files\\python\\python310\\lib\\site-packages (from spacy<4->fastai) (1.0.5)\n",
      "Requirement already satisfied: weasel<0.5.0,>=0.1.0 in h:\\program files\\python\\python310\\lib\\site-packages (from spacy<4->fastai) (0.4.1)\n",
      "Requirement already satisfied: wasabi<1.2.0,>=0.9.1 in h:\\program files\\python\\python310\\lib\\site-packages (from spacy<4->fastai) (1.1.3)\n",
      "Requirement already satisfied: spacy-legacy<3.1.0,>=3.0.11 in h:\\program files\\python\\python310\\lib\\site-packages (from spacy<4->fastai) (3.0.12)\n",
      "Requirement already satisfied: pydantic!=1.8,!=1.8.1,<3.0.0,>=1.7.4 in h:\\program files\\python\\python310\\lib\\site-packages (from spacy<4->fastai) (2.10.4)\n",
      "Requirement already satisfied: numpy>=1.19.0 in h:\\program files\\python\\python310\\lib\\site-packages (from spacy<4->fastai) (2.2.1)\n",
      "Requirement already satisfied: setuptools in h:\\program files\\python\\python310\\lib\\site-packages (from spacy<4->fastai) (65.3.0)\n",
      "Requirement already satisfied: cymem<2.1.0,>=2.0.2 in h:\\program files\\python\\python310\\lib\\site-packages (from spacy<4->fastai) (2.0.10)\n",
      "Requirement already satisfied: tqdm<5.0.0,>=4.38.0 in h:\\program files\\python\\python310\\lib\\site-packages (from spacy<4->fastai) (4.67.1)\n",
      "Requirement already satisfied: jinja2 in h:\\program files\\python\\python310\\lib\\site-packages (from spacy<4->fastai) (3.1.5)\n",
      "Requirement already satisfied: pyparsing!=3.0.5,>=2.0.2 in h:\\program files\\python\\python310\\lib\\site-packages (from packaging->fastai) (3.0.9)\n",
      "Requirement already satisfied: idna<4,>=2.5 in h:\\program files\\python\\python310\\lib\\site-packages (from requests->fastai) (3.10)\n",
      "Requirement already satisfied: charset-normalizer<4,>=2 in h:\\program files\\python\\python310\\lib\\site-packages (from requests->fastai) (3.4.1)\n",
      "Requirement already satisfied: certifi>=2017.4.17 in h:\\program files\\python\\python310\\lib\\site-packages (from requests->fastai) (2024.12.14)\n",
      "Requirement already satisfied: urllib3<3,>=1.21.1 in h:\\program files\\python\\python310\\lib\\site-packages (from requests->fastai) (2.3.0)\n",
      "Requirement already satisfied: networkx in h:\\program files\\python\\python310\\lib\\site-packages (from torch<2.6,>=1.10->fastai) (3.4.2)\n",
      "Requirement already satisfied: fsspec in h:\\program files\\python\\python310\\lib\\site-packages (from torch<2.6,>=1.10->fastai) (2024.12.0)\n",
      "Requirement already satisfied: filelock in h:\\program files\\python\\python310\\lib\\site-packages (from torch<2.6,>=1.10->fastai) (3.16.1)\n",
      "Requirement already satisfied: typing-extensions>=4.8.0 in h:\\program files\\python\\python310\\lib\\site-packages (from torch<2.6,>=1.10->fastai) (4.12.2)\n",
      "Requirement already satisfied: sympy==1.13.1 in h:\\program files\\python\\python310\\lib\\site-packages (from torch<2.6,>=1.10->fastai) (1.13.1)\n",
      "Requirement already satisfied: mpmath<1.4,>=1.1.0 in h:\\program files\\python\\python310\\lib\\site-packages (from sympy==1.13.1->torch<2.6,>=1.10->fastai) (1.3.0)\n",
      "Requirement already satisfied: python-dateutil>=2.7 in h:\\program files\\python\\python310\\lib\\site-packages (from matplotlib->fastai) (2.8.2)\n",
      "Requirement already satisfied: kiwisolver>=1.3.1 in h:\\program files\\python\\python310\\lib\\site-packages (from matplotlib->fastai) (1.4.8)\n",
      "Requirement already satisfied: fonttools>=4.22.0 in h:\\program files\\python\\python310\\lib\\site-packages (from matplotlib->fastai) (4.55.3)\n",
      "Requirement already satisfied: contourpy>=1.0.1 in h:\\program files\\python\\python310\\lib\\site-packages (from matplotlib->fastai) (1.3.1)\n",
      "Requirement already satisfied: cycler>=0.10 in h:\\program files\\python\\python310\\lib\\site-packages (from matplotlib->fastai) (0.12.1)\n",
      "Requirement already satisfied: tzdata>=2022.7 in h:\\program files\\python\\python310\\lib\\site-packages (from pandas->fastai) (2024.2)\n",
      "Requirement already satisfied: pytz>=2020.1 in h:\\program files\\python\\python310\\lib\\site-packages (from pandas->fastai) (2024.2)\n",
      "Requirement already satisfied: joblib>=1.2.0 in h:\\program files\\python\\python310\\lib\\site-packages (from scikit-learn->fastai) (1.4.2)\n",
      "Requirement already satisfied: threadpoolctl>=3.1.0 in h:\\program files\\python\\python310\\lib\\site-packages (from scikit-learn->fastai) (3.5.0)\n",
      "Requirement already satisfied: language-data>=1.2 in h:\\program files\\python\\python310\\lib\\site-packages (from langcodes<4.0.0,>=3.2.0->spacy<4->fastai) (1.3.0)\n",
      "Requirement already satisfied: pydantic-core==2.27.2 in h:\\program files\\python\\python310\\lib\\site-packages (from pydantic!=1.8,!=1.8.1,<3.0.0,>=1.7.4->spacy<4->fastai) (2.27.2)\n",
      "Requirement already satisfied: annotated-types>=0.6.0 in h:\\program files\\python\\python310\\lib\\site-packages (from pydantic!=1.8,!=1.8.1,<3.0.0,>=1.7.4->spacy<4->fastai) (0.7.0)\n",
      "Requirement already satisfied: six>=1.5 in h:\\program files\\python\\python310\\lib\\site-packages (from python-dateutil>=2.7->matplotlib->fastai) (1.16.0)\n",
      "Requirement already satisfied: blis<1.2.0,>=1.1.0 in h:\\program files\\python\\python310\\lib\\site-packages (from thinc<8.4.0,>=8.3.0->spacy<4->fastai) (1.1.0)\n",
      "Requirement already satisfied: confection<1.0.0,>=0.0.1 in h:\\program files\\python\\python310\\lib\\site-packages (from thinc<8.4.0,>=8.3.0->spacy<4->fastai) (0.1.5)\n",
      "Requirement already satisfied: colorama in h:\\program files\\python\\python310\\lib\\site-packages (from tqdm<5.0.0,>=4.38.0->spacy<4->fastai) (0.4.6)\n",
      "Requirement already satisfied: shellingham>=1.3.0 in h:\\program files\\python\\python310\\lib\\site-packages (from typer<1.0.0,>=0.3.0->spacy<4->fastai) (1.5.4)\n",
      "Requirement already satisfied: click>=8.0.0 in h:\\program files\\python\\python310\\lib\\site-packages (from typer<1.0.0,>=0.3.0->spacy<4->fastai) (8.1.8)\n",
      "Requirement already satisfied: rich>=10.11.0 in h:\\program files\\python\\python310\\lib\\site-packages (from typer<1.0.0,>=0.3.0->spacy<4->fastai) (13.9.4)\n",
      "Requirement already satisfied: smart-open<8.0.0,>=5.2.1 in h:\\program files\\python\\python310\\lib\\site-packages (from weasel<0.5.0,>=0.1.0->spacy<4->fastai) (7.1.0)\n",
      "Requirement already satisfied: cloudpathlib<1.0.0,>=0.7.0 in h:\\program files\\python\\python310\\lib\\site-packages (from weasel<0.5.0,>=0.1.0->spacy<4->fastai) (0.20.0)\n",
      "Requirement already satisfied: MarkupSafe>=2.0 in h:\\program files\\python\\python310\\lib\\site-packages (from jinja2->spacy<4->fastai) (3.0.2)\n",
      "Requirement already satisfied: marisa-trie>=1.1.0 in h:\\program files\\python\\python310\\lib\\site-packages (from language-data>=1.2->langcodes<4.0.0,>=3.2.0->spacy<4->fastai) (1.2.1)\n",
      "Requirement already satisfied: markdown-it-py>=2.2.0 in h:\\program files\\python\\python310\\lib\\site-packages (from rich>=10.11.0->typer<1.0.0,>=0.3.0->spacy<4->fastai) (3.0.0)\n",
      "Requirement already satisfied: pygments<3.0.0,>=2.13.0 in h:\\program files\\python\\python310\\lib\\site-packages (from rich>=10.11.0->typer<1.0.0,>=0.3.0->spacy<4->fastai) (2.18.0)\n",
      "Requirement already satisfied: wrapt in h:\\program files\\python\\python310\\lib\\site-packages (from smart-open<8.0.0,>=5.2.1->weasel<0.5.0,>=0.1.0->spacy<4->fastai) (1.17.0)\n",
      "Requirement already satisfied: mdurl~=0.1 in h:\\program files\\python\\python310\\lib\\site-packages (from markdown-it-py>=2.2.0->rich>=10.11.0->typer<1.0.0,>=0.3.0->spacy<4->fastai) (0.1.2)\n",
      "Note: you may need to restart the kernel to use updated packages.\n"
     ]
    },
    {
     "name": "stderr",
     "output_type": "stream",
     "text": [
      "\n",
      "[notice] A new release of pip available: 22.2.2 -> 24.3.1\n",
      "[notice] To update, run: python.exe -m pip install --upgrade pip\n"
     ]
    }
   ],
   "source": [
    "%pip install fastai\n"
   ]
  },
  {
   "cell_type": "code",
   "execution_count": 63,
   "metadata": {},
   "outputs": [
    {
     "name": "stdout",
     "output_type": "stream",
     "text": [
      "Looking in indexes: https://pypi.org/simple, https://pypi.ngc.nvidia.com\n",
      "Requirement already satisfied: PyPortfolioOpt in h:\\program files\\python\\python310\\lib\\site-packages (1.5.6)\n",
      "Requirement already satisfied: numpy>=1.26.0 in h:\\program files\\python\\python310\\lib\\site-packages (from PyPortfolioOpt) (2.2.1)\n",
      "Requirement already satisfied: scipy>=1.3 in h:\\program files\\python\\python310\\lib\\site-packages (from PyPortfolioOpt) (1.14.1)\n",
      "Requirement already satisfied: pandas>=0.19 in h:\\program files\\python\\python310\\lib\\site-packages (from PyPortfolioOpt) (2.2.3)\n",
      "Requirement already satisfied: ecos<3.0.0,>=2.0.14 in h:\\program files\\python\\python310\\lib\\site-packages (from PyPortfolioOpt) (2.0.14)\n",
      "Requirement already satisfied: cvxpy>=1.1.19 in h:\\program files\\python\\python310\\lib\\site-packages (from PyPortfolioOpt) (1.6.0)\n",
      "Requirement already satisfied: plotly<6.0.0,>=5.0.0 in h:\\program files\\python\\python310\\lib\\site-packages (from PyPortfolioOpt) (5.24.1)\n",
      "Requirement already satisfied: clarabel>=0.5.0 in h:\\program files\\python\\python310\\lib\\site-packages (from cvxpy>=1.1.19->PyPortfolioOpt) (0.9.0)\n",
      "Requirement already satisfied: scs>=3.2.4.post1 in h:\\program files\\python\\python310\\lib\\site-packages (from cvxpy>=1.1.19->PyPortfolioOpt) (3.2.7)\n",
      "Requirement already satisfied: osqp>=0.6.2 in h:\\program files\\python\\python310\\lib\\site-packages (from cvxpy>=1.1.19->PyPortfolioOpt) (0.6.7.post3)\n",
      "Requirement already satisfied: pytz>=2020.1 in h:\\program files\\python\\python310\\lib\\site-packages (from pandas>=0.19->PyPortfolioOpt) (2024.2)\n",
      "Requirement already satisfied: tzdata>=2022.7 in h:\\program files\\python\\python310\\lib\\site-packages (from pandas>=0.19->PyPortfolioOpt) (2024.2)\n",
      "Requirement already satisfied: python-dateutil>=2.8.2 in h:\\program files\\python\\python310\\lib\\site-packages (from pandas>=0.19->PyPortfolioOpt) (2.8.2)\n",
      "Requirement already satisfied: tenacity>=6.2.0 in h:\\program files\\python\\python310\\lib\\site-packages (from plotly<6.0.0,>=5.0.0->PyPortfolioOpt) (9.0.0)\n",
      "Requirement already satisfied: packaging in h:\\program files\\python\\python310\\lib\\site-packages (from plotly<6.0.0,>=5.0.0->PyPortfolioOpt) (21.3)\n",
      "Requirement already satisfied: qdldl in h:\\program files\\python\\python310\\lib\\site-packages (from osqp>=0.6.2->cvxpy>=1.1.19->PyPortfolioOpt) (0.1.7.post4)\n",
      "Requirement already satisfied: six>=1.5 in h:\\program files\\python\\python310\\lib\\site-packages (from python-dateutil>=2.8.2->pandas>=0.19->PyPortfolioOpt) (1.16.0)\n",
      "Requirement already satisfied: pyparsing!=3.0.5,>=2.0.2 in h:\\program files\\python\\python310\\lib\\site-packages (from packaging->plotly<6.0.0,>=5.0.0->PyPortfolioOpt) (3.0.9)\n",
      "Note: you may need to restart the kernel to use updated packages.\n"
     ]
    },
    {
     "name": "stderr",
     "output_type": "stream",
     "text": [
      "\n",
      "[notice] A new release of pip available: 22.2.2 -> 24.3.1\n",
      "[notice] To update, run: python.exe -m pip install --upgrade pip\n"
     ]
    }
   ],
   "source": [
    "%pip install PyPortfolioOpt\n"
   ]
  },
  {
   "cell_type": "code",
   "execution_count": 64,
   "metadata": {},
   "outputs": [
    {
     "name": "stderr",
     "output_type": "stream",
     "text": [
      "[*********************100%***********************]  6 of 6 completed\n"
     ]
    }
   ],
   "source": [
    "import pandas as pd\n",
    "import yfinance as yf\n",
    "from pypfopt import EfficientFrontier, risk_models, expected_returns\n",
    "\n",
    "# Define the assets\n",
    "assets = ['SPY', 'QQQ', 'GLD', 'DBC', 'SHY', 'TLT']\n",
    "\n",
    "# Fetch historical data\n",
    "data = yf.download(assets, start='2000-01-01', end='2024-12-31')['Close']\n",
    "\n"
   ]
  },
  {
   "cell_type": "code",
   "execution_count": 68,
   "metadata": {},
   "outputs": [
    {
     "name": "stdout",
     "output_type": "stream",
     "text": [
      "Optimal Portfolio Weights:\n",
      "OrderedDict([('DBC', 0.0), ('GLD', 0.01081), ('QQQ', 0.0), ('SHY', 0.94993), ('SPY', 0.03926), ('TLT', 0.0)])\n",
      "Expected annual return: 2.2%\n",
      "Annual volatility: 1.5%\n",
      "Sharpe Ratio: 1.43\n"
     ]
    }
   ],
   "source": [
    "# Calculate expected returns and sample covariance matrix\n",
    "mu = expected_returns.mean_historical_return(data)\n",
    "S = risk_models.sample_cov(data)\n",
    "\n",
    "# Optimize for the maximum Sharpe ratio\n",
    "ef = EfficientFrontier(mu, S)\n",
    "weights = ef.max_sharpe()\n",
    "cleaned_weights = ef.clean_weights()\n",
    "\n",
    "# Display the optimized portfolio weights\n",
    "print(\"Optimal Portfolio Weights:\")\n",
    "print(cleaned_weights)\n",
    "\n",
    "# Calculate the expected annual return, annual volatility, and Sharpe ratio\n",
    "performance = ef.portfolio_performance(verbose=True)\n"
   ]
  },
  {
   "cell_type": "code",
   "execution_count": 71,
   "metadata": {},
   "outputs": [
    {
     "name": "stdout",
     "output_type": "stream",
     "text": [
      "Ticker      DBC  GLD        QQQ  SHY        SPY  TLT\n",
      "Date                                                \n",
      "2000-01-03  NaN  NaN  80.434082  NaN  92.692940  NaN\n",
      "2000-01-04  NaN  NaN  74.916153  NaN  89.068085  NaN\n",
      "2000-01-05  NaN  NaN  73.006134  NaN  89.227409  NaN\n",
      "2000-01-06  NaN  NaN  67.992264  NaN  87.793365  NaN\n",
      "2000-01-07  NaN  NaN  76.401756  NaN  92.892097  NaN\n"
     ]
    }
   ],
   "source": [
    "print(data.head())"
   ]
  },
  {
   "cell_type": "code",
   "execution_count": 49,
   "metadata": {},
   "outputs": [
    {
     "name": "stderr",
     "output_type": "stream",
     "text": [
      "[*********************100%***********************]  6 of 6 completed\n"
     ]
    }
   ],
   "source": [
    "import pandas as pd\n",
    "import yfinance as yf\n",
    "from fastai.tabular.all import *\n",
    "\n",
    "# Define the assets\n",
    "assets = ['SPY', 'QQQ', 'GLD', '^GSPC', '^TNX', '^TYX']\n",
    "\n",
    "# Fetch historical data\n",
    "data = yf.download(assets, start='2000-01-01', end='2024-12-31')['Close']\n",
    "\n",
    "# Prepare the data for fast.ai\n",
    "data.columns = ['SPY', 'QQQ', 'GLD', 'GSPC', 'TNX', 'TYX']\n",
    "data = data.dropna()\n",
    "\n",
    "# Define the target variable (e.g., returns)\n"
   ]
  },
  {
   "cell_type": "code",
   "execution_count": null,
   "metadata": {},
   "outputs": [
    {
     "ename": "AttributeError",
     "evalue": "'tuple' object has no attribute 'train_ds'",
     "output_type": "error",
     "traceback": [
      "\u001b[1;31m---------------------------------------------------------------------------\u001b[0m",
      "\u001b[1;31mAttributeError\u001b[0m                            Traceback (most recent call last)",
      "Input \u001b[1;32mIn [74]\u001b[0m, in \u001b[0;36m<cell line: 8>\u001b[1;34m()\u001b[0m\n\u001b[0;32m      5\u001b[0m valid_data \u001b[38;5;241m=\u001b[39m (data[\u001b[38;5;241m-\u001b[39m\u001b[38;5;241m1000\u001b[39m:], data[\u001b[38;5;241m-\u001b[39m\u001b[38;5;241m2000\u001b[39m:])\n\u001b[0;32m      7\u001b[0m \u001b[38;5;66;03m# Define the model\u001b[39;00m\n\u001b[1;32m----> 8\u001b[0m model \u001b[38;5;241m=\u001b[39m \u001b[43mtabular_learner\u001b[49m\u001b[43m(\u001b[49m\u001b[43mtrain_data\u001b[49m\u001b[43m,\u001b[49m\u001b[43m \u001b[49m\u001b[43mlayers\u001b[49m\u001b[38;5;241;43m=\u001b[39;49m\u001b[43m[\u001b[49m\u001b[38;5;241;43m200\u001b[39;49m\u001b[43m,\u001b[49m\u001b[43m \u001b[49m\u001b[38;5;241;43m100\u001b[39;49m\u001b[43m]\u001b[49m\u001b[43m,\u001b[49m\u001b[43m \u001b[49m\u001b[43mmetrics\u001b[49m\u001b[38;5;241;43m=\u001b[39;49m\u001b[43maccuracy\u001b[49m\u001b[43m)\u001b[49m\n\u001b[0;32m     10\u001b[0m \u001b[38;5;66;03m# Train the model\u001b[39;00m\n\u001b[0;32m     11\u001b[0m model\u001b[38;5;241m.\u001b[39mfit_one_cycle(\u001b[38;5;241m10\u001b[39m)\n",
      "File \u001b[1;32mh:\\Program Files\\Python\\Python310\\lib\\site-packages\\fastai\\tabular\\learner.py:43\u001b[0m, in \u001b[0;36mtabular_learner\u001b[1;34m(dls, layers, emb_szs, config, n_out, y_range, **kwargs)\u001b[0m\n\u001b[0;32m     41\u001b[0m \u001b[38;5;28;01mif\u001b[39;00m config \u001b[38;5;129;01mis\u001b[39;00m \u001b[38;5;28;01mNone\u001b[39;00m: config \u001b[38;5;241m=\u001b[39m tabular_config()\n\u001b[0;32m     42\u001b[0m \u001b[38;5;28;01mif\u001b[39;00m layers \u001b[38;5;129;01mis\u001b[39;00m \u001b[38;5;28;01mNone\u001b[39;00m: layers \u001b[38;5;241m=\u001b[39m [\u001b[38;5;241m200\u001b[39m,\u001b[38;5;241m100\u001b[39m]\n\u001b[1;32m---> 43\u001b[0m to \u001b[38;5;241m=\u001b[39m \u001b[43mdls\u001b[49m\u001b[38;5;241;43m.\u001b[39;49m\u001b[43mtrain_ds\u001b[49m\n\u001b[0;32m     44\u001b[0m emb_szs \u001b[38;5;241m=\u001b[39m get_emb_sz(dls\u001b[38;5;241m.\u001b[39mtrain_ds, {} \u001b[38;5;28;01mif\u001b[39;00m emb_szs \u001b[38;5;129;01mis\u001b[39;00m \u001b[38;5;28;01mNone\u001b[39;00m \u001b[38;5;28;01melse\u001b[39;00m emb_szs)\n\u001b[0;32m     45\u001b[0m \u001b[38;5;28;01mif\u001b[39;00m n_out \u001b[38;5;129;01mis\u001b[39;00m \u001b[38;5;28;01mNone\u001b[39;00m: n_out \u001b[38;5;241m=\u001b[39m get_c(dls)\n",
      "\u001b[1;31mAttributeError\u001b[0m: 'tuple' object has no attribute 'train_ds'"
     ]
    }
   ],
   "source": [
    "data['returns'] = data.pct_change().sum()\n",
    "\n",
    "# Split the data into training and validation sets\n",
    "#train_data = (data[:-1000], data[-1000:])\n",
    "#valid_data = (data[-1000:], data[-2000:])\n",
    "splits = RandomSplitter(valid_pct=0.2)(range_of(data))\n",
    "to = TabularPandas(data, procs=[Categorify, FillMissing,Normalize],\n",
    "                   cat_names = ['DBC', 'GLD', 'SHY', 'SPY', 'TLT'],\n",
    "                   cont_names = ['age', 'fnlwgt', 'education-num'],\n",
    "                   y_names='salary',\n",
    "                   splits=splits)\n",
    "# Define the model\n",
    "model = tabular_learner(train_data, layers=[200, 100], metrics=accuracy)\n",
    "\n",
    "# Train the model\n",
    "model.fit_one_cycle(10)\n",
    "\n",
    "# Predict the optimal portfolio\n",
    "optimal_portfolio = model.predict(valid_data[0])\n",
    "\n",
    "print(\"Optimal Portfolio:\")\n",
    "print(optimal_portfolio)\n"
   ]
  },
  {
   "cell_type": "code",
   "execution_count": 75,
   "metadata": {},
   "outputs": [
    {
     "name": "stdout",
     "output_type": "stream",
     "text": [
      "Ticker      DBC  GLD        QQQ  SHY        SPY  TLT  returns\n",
      "Date                                                         \n",
      "2000-01-03  NaN  NaN  80.434082  NaN  92.692940  NaN      NaN\n",
      "2000-01-04  NaN  NaN  74.916153  NaN  89.068085  NaN      NaN\n",
      "2000-01-05  NaN  NaN  73.006134  NaN  89.227409  NaN      NaN\n",
      "2000-01-06  NaN  NaN  67.992264  NaN  87.793365  NaN      NaN\n",
      "2000-01-07  NaN  NaN  76.401756  NaN  92.892097  NaN      NaN\n"
     ]
    }
   ],
   "source": [
    "print(data.head())\n"
   ]
  },
  {
   "cell_type": "code",
   "execution_count": 73,
   "metadata": {},
   "outputs": [
    {
     "name": "stdout",
     "output_type": "stream",
     "text": [
      "Ticker           DBC       GLD       QQQ       SHY       SPY       TLT\n",
      "Date                                                                  \n",
      "2000-01-03       NaN       NaN       NaN       NaN       NaN       NaN\n",
      "2000-01-04       NaN       NaN -0.068602       NaN -0.039106       NaN\n",
      "2000-01-05       NaN       NaN -0.025495       NaN  0.001789       NaN\n",
      "2000-01-06       NaN       NaN -0.068677       NaN -0.016072       NaN\n",
      "2000-01-07       NaN       NaN  0.123683       NaN  0.058077       NaN\n",
      "...              ...       ...       ...       ...       ...       ...\n",
      "2024-12-23  0.000765 -0.004709  0.009743 -0.000611  0.005988 -0.009172\n",
      "2024-12-24  0.005736  0.001992  0.013560  0.000489  0.011115  0.004229\n",
      "2024-12-26 -0.002852  0.006751 -0.000679  0.000245  0.000067 -0.000569\n",
      "2024-12-27  0.004766 -0.006871 -0.013293  0.000244 -0.010527 -0.008199\n",
      "2024-12-30  0.009013 -0.003190 -0.013300  0.001467 -0.011412  0.008037\n",
      "\n",
      "[6288 rows x 6 columns]\n"
     ]
    }
   ],
   "source": [
    "print(data.pct_change())"
   ]
  }
 ],
 "metadata": {
  "kernelspec": {
   "display_name": "Python 3",
   "language": "python",
   "name": "python3"
  },
  "language_info": {
   "codemirror_mode": {
    "name": "ipython",
    "version": 3
   },
   "file_extension": ".py",
   "mimetype": "text/x-python",
   "name": "python",
   "nbconvert_exporter": "python",
   "pygments_lexer": "ipython3",
   "version": "3.10.2"
  }
 },
 "nbformat": 4,
 "nbformat_minor": 2
}
